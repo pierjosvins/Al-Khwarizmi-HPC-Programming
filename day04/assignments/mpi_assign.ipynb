{
 "cells": [
  {
   "cell_type": "markdown",
   "id": "a6b25960",
   "metadata": {},
   "source": [
    "## Exercise 1 Hello World\n",
    "\n",
    "1. Write an MPI program displaying the number of processes used for the execution and the rank of each process.\n",
    "2. Test the programs obtained with different numbers of threads for the parallel program.\n",
    "\n",
    "**Output Example**\n",
    "```shell\n",
    "Hello from the rank 2 process\n",
    "Hello from the rank 0 process\n",
    "Hello from the rank 3 process\n",
    "Hello from the rank 1 process\n",
    "Parallel execution of hello_world with 4 process\n",
    "```\n",
    "*Note that the output order maybe different*"
   ]
  },
  {
   "cell_type": "code",
   "execution_count": 1,
   "id": "fb3d2b24",
   "metadata": {},
   "outputs": [
    {
     "name": "stdout",
     "output_type": "stream",
     "text": [
      "Writing hello.py\n"
     ]
    }
   ],
   "source": [
    " %%file hello.py\n",
    " # write your program here\n",
    "\n",
    "from mpi4py import MPI\n",
    "\n",
    "# Communication, Rank, Size\n",
    "COMM = MPI.COMM_WORLD\n",
    "SIZE = COMM.Get_size()\n",
    "RANK = COMM.Get_rank()\n",
    "LAST_RANK = SIZE - 1\n",
    "print(\"Hello from the rank\", RANK, \"process\")\n",
    "\n",
    "if RANK == LAST_RANK:\n",
    "    print(\"Parallel execution of hello_world with\", SIZE, \"process\")"
   ]
  },
  {
   "cell_type": "code",
   "execution_count": 2,
   "id": "58d99ca0",
   "metadata": {},
   "outputs": [
    {
     "name": "stdout",
     "output_type": "stream",
     "text": [
      "Hello from the rank 1 process\r\n",
      "Hello from the rank 2 process\r\n",
      "Hello from the rank 0 process\r\n",
      "Hello from the rank 3 process\r\n",
      "Parallel execution of hello_world with 4 process\r\n"
     ]
    }
   ],
   "source": [
    "# enter command for compile and run the program\n",
    "! mpirun -n 4 python hello.py"
   ]
  },
  {
   "cell_type": "markdown",
   "id": "3a4fe682",
   "metadata": {},
   "source": [
    "## Exercise 2 Sharing Data \n",
    "\n",
    "A common need is for one process to get data from the user, either by reading from the terminal or command line arguments, and then to distribute this information to all other processors.\n",
    "\n",
    "Write a program that reads an integer value from the terminal and distributes the value to all of the MPI processes. Each process should print out its rank and the value it received. Values should be read until a negative integer is given as input.\n",
    "\n",
    "You may want to use these MPI routines in your solution:\n",
    "`Get_rank` `Bcast` \n",
    "\n",
    "**Output Example**\n",
    "```shell\n",
    "10\n",
    "Process 0 got 10\n",
    "Process 1 got 10\n",
    "```"
   ]
  },
  {
   "cell_type": "code",
   "execution_count": 3,
   "id": "2287308a",
   "metadata": {},
   "outputs": [
    {
     "name": "stdout",
     "output_type": "stream",
     "text": [
      "Writing sharing.py\n"
     ]
    }
   ],
   "source": [
    "%%file sharing.py\n",
    "# write your program here\n",
    "\n",
    "from mpi4py import MPI\n",
    "COMM = MPI.COMM_WORLD\n",
    "RANK = COMM.Get_rank()\n",
    "\n",
    "import sys\n",
    "    \n",
    "if RANK == 0:\n",
    "    data_to_send = int(sys.argv[1])\n",
    "else:\n",
    "    data_to_send = None\n",
    "\n",
    "recv_data = COMM.bcast(data_to_send, root = 0)\n",
    "print(\"The process {rank} got value {value} from 0\".format(rank=RANK, value=recv_data))"
   ]
  },
  {
   "cell_type": "code",
   "execution_count": 4,
   "id": "18d2b8ef",
   "metadata": {},
   "outputs": [
    {
     "name": "stdout",
     "output_type": "stream",
     "text": [
      "Type the data to distribute :\n",
      "4\n",
      "The process 0 got value 4 from 0\n",
      "The process 1 got value 4 from 0\n",
      "The process 2 got value 4 from 0\n",
      "The process 3 got value 4 from 0\n",
      "Type the data to distribute :\n",
      "3\n",
      "The process 0 got value 3 from 0\n",
      "The process 1 got value 3 from 0\n",
      "The process 2 got value 3 from 0\n",
      "The process 3 got value 3 from 0\n",
      "Type the data to distribute :\n",
      "-1\n"
     ]
    }
   ],
   "source": [
    "# enter command for compile and run the program\n",
    "data = int(input(\"Type the data to distribute :\\n\"))\n",
    "\n",
    "while data >= 0:\n",
    "    # enter command for compile and run the program\n",
    "    !mpirun -n 4 python3 sharing.py {data}\n",
    "\n",
    "    data = int(input(\"Type the data to distribute :\\n\"))"
   ]
  },
  {
   "cell_type": "markdown",
   "id": "a2d9e5c1",
   "metadata": {},
   "source": [
    "## Exercise 3 Sending in a ring (broadcast by ring)\n",
    "\n",
    "Write a program that takes data from process zero and sends it to all of the other processes by sending it in a ring. That is, process i should receive the data and send it to process i+1, until the last process is reached.\n",
    "Assume that the data consists of a single integer. Process zero reads the data from the user.\n",
    "![](../data/ring.gif)\n",
    "\n",
    "You may want to use these MPI routines in your solution:\n",
    "`Send` `Recv` "
   ]
  },
  {
   "cell_type": "code",
   "execution_count": 5,
   "id": "dd6348ea",
   "metadata": {},
   "outputs": [
    {
     "name": "stdout",
     "output_type": "stream",
     "text": [
      "Writing ring.py\n"
     ]
    }
   ],
   "source": [
    "%%file ring.py\n",
    "# filename = sending_ring.py\n",
    "from mpi4py import MPI\n",
    "\n",
    "COMM = MPI.COMM_WORLD\n",
    "SIZE = COMM.Get_size()\n",
    "RANK = COMM.Get_rank()\n",
    "LAST_RANK = SIZE - 1\n",
    "tag = 0\n",
    "data = 10\n",
    "\n",
    "if RANK == 0:\n",
    "    COMM.send(data, dest = RANK + 1, tag = tag)\n",
    "    print(\"Process {rank} send data = {data} to process {dest}\".format(rank=RANK, data=data, dest=RANK + 1))\n",
    "    \n",
    "    \n",
    "elif RANK < LAST_RANK:\n",
    "    recv_data = COMM.recv(source = RANK - 1, tag=tag)\n",
    "    COMM.send(recv_data, dest = RANK + 1, tag = tag)\n",
    "    print(\"Process {rank} received data = {data} from process {source} and sends it to process {dest}\".format(rank=RANK, data = recv_data, source = RANK -1, dest=RANK + 1))\n",
    "    \n",
    "else:\n",
    "    recv_data = COMM.recv(source = RANK - 1, tag=tag)\n",
    "    print(\"Process {rank} receive data = {data} from process {source}\".format(rank=RANK, data = recv_data, source = RANK -1))\n",
    "    "
   ]
  },
  {
   "cell_type": "code",
   "execution_count": 6,
   "id": "ab51ee69",
   "metadata": {},
   "outputs": [
    {
     "name": "stdout",
     "output_type": "stream",
     "text": [
      "Process 0 send data = 10 to process 1\n",
      "Process 1 received data = 10 from process 0 and sends it to process 2\n",
      "Process 2 received data = 10 from process 1 and sends it to process 3\n",
      "Process 3 receive data = 10 from process 2\n"
     ]
    }
   ],
   "source": [
    "!mpirun -n 4 python3 ring.py"
   ]
  },
  {
   "cell_type": "markdown",
   "id": "8832d399",
   "metadata": {},
   "source": [
    "## Exercise 4 Matrix vector product\n",
    "\n",
    "1. Use the `MatrixVectorMult.py` file to implement the MPI version of matrix vector multiplication.\n",
    "2. Process 0 compares the result with the `dot` product.\n",
    "3. Plot the scalability of your implementation. \n",
    "\n",
    "**Output Example**\n",
    "```shell\n",
    "CPU time of parallel multiplication using 2 processes is  174.923446\n",
    "The error comparing to the dot product is : 1.4210854715202004e-14\n",
    "```"
   ]
  },
  {
   "cell_type": "code",
   "execution_count": 7,
   "id": "5a956fa0",
   "metadata": {},
   "outputs": [
    {
     "name": "stdout",
     "output_type": "stream",
     "text": [
      "Writing MatrixVectorMult_V0.py\n"
     ]
    }
   ],
   "source": [
    "%%file MatrixVectorMult_V0.py\n",
    "\n",
    "import numpy as np\n",
    "from scipy.sparse import lil_matrix\n",
    "from numpy.random import rand, seed\n",
    "from numba import njit\n",
    "from mpi4py import MPI\n",
    "\n",
    "\n",
    "''' This program compute parallel csc matrix vector multiplication using mpi '''\n",
    "\n",
    "COMM = MPI.COMM_WORLD\n",
    "nbOfproc = COMM.Get_size()\n",
    "RANK = COMM.Get_rank()\n",
    "\n",
    "seed(42)\n",
    "\n",
    "def matrixVectorMult(A, b, x):\n",
    "    \n",
    "    row, col = A.shape\n",
    "    for i in range(row):\n",
    "        a = A[i]\n",
    "        for j in range(col):\n",
    "            x[i] += a[j] * b[j]\n",
    "\n",
    "    return 0\n",
    "\n",
    "########################initialize matrix A and vector b ######################\n",
    "#matrix sizes\n",
    "SIZE = 1000\n",
    "Local_size = int(SIZE/nbOfproc) \n",
    "\n",
    "# counts = block of each proc\n",
    "counts = counts =[Local_size*SIZE for i in range(nbOfproc)]\n",
    "\n",
    "if RANK == 0:\n",
    "    A = lil_matrix((SIZE, SIZE))\n",
    "    A[0, :100] = rand(100)\n",
    "    A[1, 100:200] = A[0, :100]\n",
    "    A.setdiag(rand(SIZE))\n",
    "    A = A.toarray()\n",
    "    b = rand(SIZE)\n",
    "else :\n",
    "    A = None\n",
    "    b = None\n",
    "\n",
    "\n",
    "\n",
    "# Send b to all procs\n",
    "b = COMM.bcast(b, root=0)\n",
    "LocalMatrix = np.zeros((Local_size, SIZE))\n",
    "\n",
    "# Scatter the matrix A\n",
    "COMM.Scatterv([A, counts, MPI.DOUBLE], LocalMatrix, root = 0)\n",
    "\n",
    "#####################Compute A*b locally#######################################\n",
    "LocalX = np.zeros(Local_size)\n",
    "\n",
    "start = MPI.Wtime()\n",
    "matrixVectorMult(LocalMatrix, b, LocalX)\n",
    "stop = MPI.Wtime()\n",
    "\n",
    "if RANK == 0:\n",
    "    print(\"CPU time of parallel multiplication is \", (stop - start)*1000)\n",
    "\n",
    "##################Gather te results ###########################################\n",
    "# sendcouns = local size of result\n",
    "sendcounts = np.array([Local_size for i in range(nbOfproc)])\n",
    "if RANK == 0: \n",
    "    X = np.empty(sum(sendcounts), dtype=np.double)\n",
    "else :\n",
    "    X = None\n",
    "\n",
    "# Gather the result into X\n",
    "COMM.Gatherv(LocalX, (X, sendcounts, MPI.DOUBLE), root=0)\n",
    "\n",
    "##################Print the results ###########################################\n",
    "\n",
    "if RANK == 0 :\n",
    "    X_ = A.dot(b)\n",
    "    print(\"The error is :\", np.max(X_ - X))\n",
    "    #print(\"The result of A*b using dot is :\", X_)\n",
    "    #print(\"The result of A*b using parallel version is :\", X)\n"
   ]
  },
  {
   "cell_type": "code",
   "execution_count": 22,
   "id": "8fa5f20e",
   "metadata": {},
   "outputs": [
    {
     "name": "stdout",
     "output_type": "stream",
     "text": [
      "CPU time of parallel multiplication is  474.81834500013065\n",
      "The error is : 1.4210854715202004e-14\n"
     ]
    }
   ],
   "source": [
    "!mpirun -n 2 python3 MatrixVectorMult_V0.py"
   ]
  },
  {
   "cell_type": "code",
   "execution_count": 24,
   "id": "0266adb9",
   "metadata": {},
   "outputs": [
    {
     "data": {
      "image/png": "[encoded data removed]",
      "text/plain": [
       "<Figure size 576x360 with 1 Axes>"
      ]
     },
     "metadata": {
      "needs_background": "light"
     },
     "output_type": "display_data"
    }
   ],
   "source": [
    "import matplotlib.pyplot as plt\n",
    "\n",
    "nb_proc = [2, 4, 5, 8, 10, 20]\n",
    "times = [474.81834500013065, 365.1421700001265, 295.6487400001606, 324.96612200020536, 310.9891599997354, 288.6031219995857]\n",
    "plt.figure(figsize=(8, 5))\n",
    "plt.plot(nb_proc, times)\n",
    "plt.xlabel(\"Number of processors\")\n",
    "plt.ylabel(\"Time\")\n",
    "plt.show()"
   ]
  },
  {
   "cell_type": "markdown",
   "id": "a0f4f0cc",
   "metadata": {},
   "source": [
    "## Exercise 5 Calculation of π (Monte Carlo)\n",
    "\n",
    "1. Use the `PiMonteCarlo.py` file to implement the calculation of PI using Monte Carlo.\n",
    "2. Process 0 prints the result.\n",
    "3. Plot the scalability of your implementation. "
   ]
  },
  {
   "cell_type": "code",
   "execution_count": 15,
   "id": "83a1c3a7",
   "metadata": {},
   "outputs": [
    {
     "name": "stdout",
     "output_type": "stream",
     "text": [
      "Writing PiMonteCarlo_V0.py\n"
     ]
    }
   ],
   "source": [
    "%%file PiMonteCarlo_V0.py\n",
    "# write your program here\n",
    "\n",
    "import numpy as np\n",
    "import random \n",
    "import timeit\n",
    "from mpi4py import MPI\n",
    "\n",
    "COMM = MPI.COMM_WORLD\n",
    "SIZE = COMM.Get_size()\n",
    "RANK = COMM.Get_rank()\n",
    "\n",
    "INTERVAL= 1000\n",
    "random.seed(42)  \n",
    "\n",
    "if RANK == 0:\n",
    "    values_sum = np.array([0.])\n",
    "else:\n",
    "    values_sum = None\n",
    "    \n",
    "def compute_points():\n",
    "    \n",
    "    random.seed(42)  \n",
    "    \n",
    "    circle_points= np.array([0.])\n",
    "\n",
    "    # Total Random numbers generated= possible x \n",
    "    # values* possible y values \n",
    "    num_rank = int(INTERVAL**2 / SIZE)\n",
    "    inf_val = 1 + (RANK * num_rank)\n",
    "    sup_val = 1 + (RANK +1) * num_rank\n",
    "\n",
    "    COMM.Barrier()\n",
    "    for i in range(inf_val, sup_val): \n",
    "      \n",
    "        # Randomly generated x and y values from a \n",
    "        # uniform distribution \n",
    "        # Rannge of x and y values is -1 to 1 \n",
    "                \n",
    "        rand_x= random.uniform(-1, 1) \n",
    "        rand_y= random.uniform(-1, 1) \n",
    "      \n",
    "        # Distance between (x, y) from the origin \n",
    "        origin_dist= rand_x**2 + rand_y**2\n",
    "      \n",
    "        # Checking if (x, y) lies inside the circle \n",
    "        if origin_dist<= 1: \n",
    "            circle_points[0] += 1\n",
    "      \n",
    "        # Estimating value of pi, \n",
    "        # pi= 4*(no. of points generated inside the  \n",
    "        # circle)/ (no. of points generated inside the square) \n",
    "    \n",
    "         \n",
    "    COMM.Barrier()\n",
    "    \n",
    "    # Get partial results from all processors then calculate the sum\n",
    "    COMM.Reduce(circle_points, values_sum, op=MPI.SUM, root=0)\n",
    "    \n",
    "    return values_sum\n",
    "\n",
    "\n",
    "\n",
    "start = timeit.default_timer()\n",
    "circle_points = compute_points()\n",
    "end = timeit.default_timer()\n",
    "\n",
    "if RANK == 0:\n",
    "    print(\"I am process 0\")\n",
    "    pi = 4* circle_points[0]/ INTERVAL**2 \n",
    "    print(\"Circle points number :\",circle_points[0])\n",
    "    print(\"Final Estimation of Pi=\", pi, \"cpu time :\",end-start)"
   ]
  },
  {
   "cell_type": "code",
   "execution_count": 16,
   "id": "216170d0",
   "metadata": {},
   "outputs": [
    {
     "name": "stdout",
     "output_type": "stream",
     "text": [
      "I am process 0\r\n",
      "Circle points number : 785596.0\r\n",
      "Final Estimation of Pi= 3.142384 cpu time : 0.9252625959998113\r\n"
     ]
    }
   ],
   "source": [
    "!mpirun -n 2 python3 PiMonteCarlo_V0.py"
   ]
  },
  {
   "cell_type": "code",
   "execution_count": 25,
   "id": "6e6e6ad5",
   "metadata": {},
   "outputs": [
    {
     "data": {
      "image/png": "[encoded data removed]",
      "text/plain": [
       "<Figure size 576x360 with 1 Axes>"
      ]
     },
     "metadata": {
      "needs_background": "light"
     },
     "output_type": "display_data"
    },
    {
     "data": {
      "image/png": "[encoded data removed]",
      "text/plain": [
       "<Figure size 576x360 with 1 Axes>"
      ]
     },
     "metadata": {
      "needs_background": "light"
     },
     "output_type": "display_data"
    }
   ],
   "source": [
    "import matplotlib.pyplot as plt\n",
    "\n",
    "nb_proc = [2, 4, 6, 8, 10]\n",
    "times = [0.9252625959998113, 0.6563518330003717, 0.73613126500004, 0.703037511999355, 0.8525159130003885]\n",
    "estimated_values = [3.142384, 3.140128, 3.140112, 3.140256, 3.14028]\n",
    "\n",
    "\n",
    "plt.figure(figsize=(8, 5))\n",
    "plt.plot(nb_proc, times)\n",
    "plt.xlabel(\"Number of processors\")\n",
    "plt.ylabel(\"Time\")\n",
    "plt.show()\n",
    "\n",
    "plt.figure(figsize=(8, 5))\n",
    "plt.plot(nb_proc, estimated_values)\n",
    "plt.xlabel(\"Number of processors\")\n",
    "plt.ylabel(\"Time\")\n",
    "plt.show()"
   ]
  },
  {
   "cell_type": "code",
   "execution_count": null,
   "id": "5c841bca",
   "metadata": {},
   "outputs": [],
   "source": []
  },
  {
   "cell_type": "code",
   "execution_count": null,
   "id": "ab6d751d",
   "metadata": {},
   "outputs": [],
   "source": []
  }
 ],
 "metadata": {
  "hide_input": false,
  "kernelspec": {
   "display_name": "Python 3 (ipykernel)",
   "language": "python",
   "name": "python3"
  },
  "language_info": {
   "codemirror_mode": {
    "name": "ipython",
    "version": 3
   },
   "file_extension": ".py",
   "mimetype": "text/x-python",
   "name": "python",
   "nbconvert_exporter": "python",
   "pygments_lexer": "ipython3",
   "version": "3.8.3"
  }
 },
 "nbformat": 4,
 "nbformat_minor": 5
}
